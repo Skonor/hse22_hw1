{
  "nbformat": 4,
  "nbformat_minor": 0,
  "metadata": {
    "colab": {
      "provenance": [],
      "collapsed_sections": []
    },
    "kernelspec": {
      "name": "python3",
      "display_name": "Python 3"
    },
    "language_info": {
      "name": "python"
    }
  },
  "cells": [
    {
      "cell_type": "code",
      "execution_count": 14,
      "metadata": {
        "id": "NuQSkucckMrM"
      },
      "outputs": [],
      "source": [
        "import re"
      ]
    },
    {
      "cell_type": "code",
      "source": [
        "def get_stats(file, fl=True):\n",
        "    seqs = ''.join(file.readlines())\n",
        "    pattern = r\">.*?\\n((?:[ACTGN]+\\n)+)\"\n",
        "    trash = re.findall(pattern, seqs)\n",
        "    results = [s.replace(\"\\n\", \"\") for s in re.findall(pattern, seqs)]\n",
        "    lens = sorted(list(map(len, results)))\n",
        "    total_length = sum(lens)\n",
        "    s = 0\n",
        "    i = len(lens)\n",
        "    while s * 2 < total_length:\n",
        "        i -= 1\n",
        "        s += lens[i]\n",
        "    if fl:\n",
        "        print(\n",
        "            f\"Количество: {len(results)}\\nОбщая длина: {total_length}\\nМаксимальная длина: {max(lens)}\\nN50: {lens[i]}\"\n",
        "        )\n",
        "    return max(results, key=len)\n"
      ],
      "metadata": {
        "id": "jzB6hfpDkaEJ"
      },
      "execution_count": 22,
      "outputs": []
    },
    {
      "cell_type": "code",
      "source": [
        "print('Континги')\n",
        "cont = get_stats(open('Poil_contig.fa', 'r'))"
      ],
      "metadata": {
        "colab": {
          "base_uri": "https://localhost:8080/"
        },
        "id": "fVdDbWUqkgwY",
        "outputId": "f24ccf4d-4d7d-4e57-a1a8-b6adede09d96"
      },
      "execution_count": 23,
      "outputs": [
        {
          "output_type": "stream",
          "name": "stdout",
          "text": [
            "Континги\n",
            "Количество: 623\n",
            "Общая длина: 3925192\n",
            "Максимальная длина: 179303\n",
            "N50: 47797\n"
          ]
        }
      ]
    },
    {
      "cell_type": "code",
      "source": [
        "print('Скаффолды')\n",
        "scaf = get_stats(open('Poil_scaffold.fa', 'r'))"
      ],
      "metadata": {
        "colab": {
          "base_uri": "https://localhost:8080/"
        },
        "id": "iPsOA6-Ek_1D",
        "outputId": "46a1ff6e-e33e-4cb8-df19-40d03eb87211"
      },
      "execution_count": 24,
      "outputs": [
        {
          "output_type": "stream",
          "name": "stdout",
          "text": [
            "Скаффолды\n",
            "Количество: 71\n",
            "Общая длина: 3873854\n",
            "Максимальная длина: 3835803\n",
            "N50: 3835803\n"
          ]
        }
      ]
    },
    {
      "cell_type": "code",
      "source": [
        "print(f'Общая длина гэпов: {scaf.count(\"N\")}')\n",
        "scaf = re.sub(r'N{2,}', 'N', scaf)\n",
        "print(f'Число гэпов: {scaf.count(\"N\")}')"
      ],
      "metadata": {
        "colab": {
          "base_uri": "https://localhost:8080/"
        },
        "id": "XdJTekFflEXy",
        "outputId": "d3f04053-3259-43fe-f052-da8ad44771b9"
      },
      "execution_count": 25,
      "outputs": [
        {
          "output_type": "stream",
          "name": "stdout",
          "text": [
            "Общая длина гэпов: 6879\n",
            "Число гэпов: 64\n"
          ]
        }
      ]
    },
    {
      "cell_type": "code",
      "source": [
        "scaf = get_stats(open('Poil_gapClosed.fa', 'r'), False)"
      ],
      "metadata": {
        "id": "OZmZ3P1X21La"
      },
      "execution_count": 28,
      "outputs": []
    },
    {
      "cell_type": "code",
      "source": [
        "print(f'Общая длина гэпов для обрезанных чтений: {scaf.count(\"N\")}')\n",
        "scaf = re.sub(r'N{2,}', 'N', scaf)\n",
        "print(f'Число гэпов для обрезанных чтений: {scaf.count(\"N\")}')"
      ],
      "metadata": {
        "colab": {
          "base_uri": "https://localhost:8080/"
        },
        "id": "XItWOAVr1nos",
        "outputId": "1870f014-76e0-4294-a7d5-69a9663cfe1e"
      },
      "execution_count": 29,
      "outputs": [
        {
          "output_type": "stream",
          "name": "stdout",
          "text": [
            "Общая длина гэпов для обрезанных чтений: 2853\n",
            "Число гэпов для обрезанных чтений: 12\n"
          ]
        }
      ]
    },
    {
      "cell_type": "markdown",
      "source": [
        "**Бонус**"
      ],
      "metadata": {
        "id": "Q3OcQwJT-8IP"
      }
    },
    {
      "cell_type": "code",
      "source": [
        "print('Континги')\n",
        "cont = get_stats(open('Poil_contig_bonus.fa', 'r'))"
      ],
      "metadata": {
        "colab": {
          "base_uri": "https://localhost:8080/"
        },
        "id": "50bPkefl--T0",
        "outputId": "c4d1a6a3-ee0c-4064-c7e6-f824e6d9d351"
      },
      "execution_count": 31,
      "outputs": [
        {
          "output_type": "stream",
          "name": "stdout",
          "text": [
            "Континги\n",
            "Количество: 3452\n",
            "Общая длина: 3917933\n",
            "Максимальная длина: 25658\n",
            "N50: 4187\n"
          ]
        }
      ]
    },
    {
      "cell_type": "code",
      "source": [
        "print('Скаффолды')\n",
        "scaf = get_stats(open('Poil_scaffold_bonus.fa', 'r'))"
      ],
      "metadata": {
        "colab": {
          "base_uri": "https://localhost:8080/"
        },
        "id": "ORoa8WpOBw1z",
        "outputId": "e0b627a2-0d2e-482f-ed84-ba4129456b98"
      },
      "execution_count": 32,
      "outputs": [
        {
          "output_type": "stream",
          "name": "stdout",
          "text": [
            "Скаффолды\n",
            "Количество: 508\n",
            "Общая длина: 3864690\n",
            "Максимальная длина: 758058\n",
            "N50: 449305\n"
          ]
        }
      ]
    }
  ]
}